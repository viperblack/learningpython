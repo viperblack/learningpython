{
  "nbformat": 4,
  "nbformat_minor": 0,
  "metadata": {
    "colab": {
      "name": "Aula_0.ipynb",
      "provenance": [],
      "collapsed_sections": [],
      "toc_visible": true,
      "include_colab_link": true
    },
    "kernelspec": {
      "name": "python3",
      "display_name": "Python 3"
    },
    "language_info": {
      "name": "python"
    }
  },
  "cells": [
    {
      "cell_type": "markdown",
      "metadata": {
        "id": "view-in-github",
        "colab_type": "text"
      },
      "source": [
        "<a href=\"https://colab.research.google.com/github/viperblack/learningpython/blob/main/Aula_0.ipynb\" target=\"_parent\"><img src=\"https://colab.research.google.com/assets/colab-badge.svg\" alt=\"Open In Colab\"/></a>"
      ]
    },
    {
      "cell_type": "markdown",
      "source": [
        "O Python é uma linguagem de programação fácil de interpretar e de alto nível orientada a objetos com sintaxe fácil de ler. Ideal para criar protótipos e tarefas ad-hoc, o Python tem amplo uso em computação científica, desenvolvimento web e automação. Como uma linguagem de programação de propósito geral e amigável, o Python suporta muitos dos principais cientistas de computador e desenvolvedores de aplicativos globalmente. Vamos ter nosso primeiro contato com a linguagem Python, clique no botão <img src=  http://www.clipartbest.com/cliparts/ncE/X8y/ncEX8yE7i.png width = \"16px\"> abaixo:\n",
        "\n",
        "\n",
        "\n"
      ],
      "metadata": {
        "id": "afxxti2GrtoA"
      }
    },
    {
      "cell_type": "markdown",
      "source": [
        "# Princípios de programação utilizando a linguagem Python\n",
        "<img src=\"https://static.wikia.nocookie.net/naruto/images/9/9f/A_Academia_reformada.png/revision/latest/scale-to-width-down/1000?cb=20180326193311&path-prefix=pt-br\" alt=\"Academia\">\n",
        "\n",
        "*   Expressões aritméticas\n",
        "*   Variáveis\n",
        "*   Constantes\n",
        "*   Operadores relacionais e lógicos\n",
        "\n",
        "\n"
      ],
      "metadata": {
        "id": "0pNx1TkrIegr"
      }
    },
    {
      "cell_type": "code",
      "execution_count": null,
      "metadata": {
        "id": "zcsGr56FrBN4"
      },
      "outputs": [],
      "source": [
        "resposta = input(\"Topa aprender a programar? (0-Não; 1-Sim) \")\n",
        "if int(resposta) >= 1:\n",
        "  print (\"Então vamos começar! :)\")\n",
        "else:\n",
        "  print (\"Que pena. :(\")"
      ]
    },
    {
      "cell_type": "markdown",
      "source": [
        "## Alô Mundo\n",
        "O primeiro exercício universal em toda linguagem de programação é o famoso \"Hello, World!\". Modifique o programa abaixo para mostrar a mensagem \"Hello World!\" (sem aspas)."
      ],
      "metadata": {
        "id": "ubOx1wCpge3g"
      }
    },
    {
      "cell_type": "code",
      "source": [
        "print (\"Goodbye, Mars!\")"
      ],
      "metadata": {
        "id": "ZYx4huVNhVa9"
      },
      "execution_count": null,
      "outputs": []
    },
    {
      "cell_type": "markdown",
      "source": [
        "## Expressões aritméticas\n",
        "O Python pode ser utilizado como uma calculadora matemática avançada. Praticamente, todos os operadores aritméticos funcionam da mesma forma como os conhecemos da matemática elementar. Por exemplo, para trabalharmos com as 4 principais funções matemáticas, a soma, subtração, multiplicação e divisão, temos os operadores conforme tabela a seguir.\n",
        "<br /><br />\n",
        "<table>\n",
        "<tr>\n",
        "<td>Operação</td> <td>Operador</td>\n",
        "</tr>\n",
        "<tr><td>Adição</td><td>+</td>\n",
        "</tr>\n",
        "<tr>\n",
        "<td>Subtração</td><td>-</td>\n",
        "</tr>\n",
        "<tr><td>Multiplicação</td><td>*</td>\n",
        "<tr>\n",
        "<td>Divisão</td><td>/</td>\n",
        "</tr>\n",
        "</table>\n",
        "<br />"
      ],
      "metadata": {
        "id": "Rsh0MfOY2xaV"
      }
    },
    {
      "cell_type": "markdown",
      "source": [
        "## Constantes\n",
        "São iguais as variáveis, só que os seus valores não mudam.<br />\n",
        "Dos tipos acima uma tupla é uma constante.<br />\n",
        "Outros exemplos de constantes:\n",
        "<ul>\n",
        "<li>PI =  3.14159265358979323846264338327950288...</li>\n",
        "<li>IGNORANCIA_HUMANA = \"Infinita\"</li>\n",
        "<li>$J^2 = -1$ </li>\n",
        "<li>GALO_GANHOU = True</li>\n",
        "</ul>\n",
        "<img src=\"https://openclipart.org/download/29833/warning.svg\" width=\"20px\" alt=\"warning\">Constantes são nomeadas com todas em MAIÚSCULAS.\n",
        "\n"
      ],
      "metadata": {
        "id": "6matQpznr07x"
      }
    },
    {
      "cell_type": "markdown",
      "source": [
        "## Variáveis\n",
        "\n",
        "As variáveis são os elementos da programação que permitem o armazenamento de valores na memória do computador e seu uso pelo programa.<br />\n",
        "O conceito de variável inclui quatro características: o *nome* usado pelo programa para a variável, o *endereço* de memória para o qual aquele nome aponta, o *valor* armazenado naquele endereço de memória e o *tipo* de dado armazenado.<br />\n",
        "Quando falamos em níveis, podemos dizer que uma linguagem de alto nível está muito mais próxima do programador do que do dispositivo, ou seja, é uma linguagem muito mais intuitiva da qual Python faz parte, não precisamos nos preocupar, inicialmente, com o *endereço* nem com o *tipo*.<br />\n",
        "Vamos a alguns exemplos dos tipos mais usados no Python:<br />\n",
        "\n",
        "*   **String -** Armazena valores alfanuméricos como: a-z, A-Z, 0-9, @!$ e outro.\n",
        "*   **Inteiro -** Armazena valore numéricos inteiros sem casas decimais.\n",
        "*   **Boolean - *** Armazena valores binários como: 0 ou 1, True or False, Verdadeiro ou Falso.\n",
        "*   **Float -** Armazena valores numéricos não inteiros, ou seja, que contenham casas decimais como: 0.3333 ou o resultado de 1/3.\n",
        "*   **List -** Armazena vários dos tipos de variáveis como as vistas acima. Seu tamanho e número de elementos são manipuláveis.\n",
        "*   **Tuple -** Armazena vários tipos de variáveis como as vistas acima. Seu tamanho e número de elementos são imutáveis ou constantes, tornando-a somente leitura.\n",
        "*   **Dict -** Armazena vários tipos de variáveis como as vistas acima. Num tipo de organização chamada de par \"chave: valor\".\n",
        "\n",
        "<br />\n",
        "<code>nome = \"Arthur\"</code>\n",
        "<table>\n",
        "<tbody>\n",
        "  <tr>\n",
        "    <td>Nome</td>\n",
        "    <td>nome</td>\n",
        "    <td rowspan=\"3\">String</td>\n",
        "  </tr>\n",
        "  <tr>\n",
        "    <td>Valor</td>\n",
        "    <td>\"Arthur\"</td>\n",
        "    \n",
        "  </tr>\n",
        "  <tr>\n",
        "    <td>Endereço</td>\n",
        "    <td>Não sabemos, o Python cuida disso pra gente</td>\n",
        "  </tr>\n",
        "</tbody>\n",
        "</table>\n",
        "\n",
        "<code>numero = 5</code><br />\n",
        "\n",
        "<table>\n",
        "<tbody>\n",
        "  <tr>\n",
        "    <td>Nome</td>\n",
        "    <td>numero</td>\n",
        "    <td rowspan=\"4\">Integer</td>\n",
        "  </tr>\n",
        "  <tr>\n",
        "    <td>Valor</td>\n",
        "    <td>\"Arthur\"</td>\n",
        "  </tr>\n",
        "  <tr>\n",
        "    <td>Endereço</td>\n",
        "    <td>Não sabemos, o Python cuida disso pra gente</td>\n",
        "  </tr>\n",
        "</tbody>\n",
        "</table>\n",
        "\n",
        "<code>ehVerdade: True</code>\n",
        "<table>\n",
        "<tbody>\n",
        "  <tr>\n",
        "    <td>Nome</td>\n",
        "    <td>ehVerdade</td>\n",
        "    <td rowspan=\"5\">Boolean</td>\n",
        "  </tr>\n",
        "  <tr>\n",
        "    <td>Valor</td>\n",
        "    <td>True</td>\n",
        "  </tr>\n",
        "  <tr>\n",
        "    <td>Endereço</td>\n",
        "    <td>Não sabemos, o Python cuida disso pra gente</td>\n",
        "  </tr>\n",
        "</tbody>\n",
        "</table>\n",
        "\n",
        "<code>fracao = 0.33333</code>\n",
        "\n",
        "<table>\n",
        "<tbody>\n",
        "  <tr>\n",
        "    <td>Nome</td>\n",
        "    <td>fracao</td>\n",
        "    <td rowspan=\"5\">Float</td>\n",
        "  </tr>\n",
        "  <tr>\n",
        "    <td>Valor</td>\n",
        "    <td>0.33333</td>\n",
        "  </tr>\n",
        "  <tr>\n",
        "    <td>Endereço</td>\n",
        "    <td>Não sabemos, o Python cuida disso pra gente</td>\n",
        "  </tr>\n",
        "</tbody>\n",
        "</table>\n",
        "\n",
        "<code>primosLista = ['Melissa', 'Arthur', 'Maria Letícia', 'Larissa', 'Janaína', 12, 11.25, \"corajosa\", False]</code>\n",
        "\n",
        "<table>\n",
        "<tbody>\n",
        "  <tr>\n",
        "    <td>Nome</td>\n",
        "    <td>primosLista</td>\n",
        "    <td rowspan=\"5\">List</td>\n",
        "  </tr>\n",
        "  <tr>\n",
        "    <td>Valor</td>\n",
        "    <td>Vários</td>\n",
        "  </tr>\n",
        "  <tr>\n",
        "    <td>Endereço</td>\n",
        "    <td>Não sabemos, o Python cuida disso pra gente</td>\n",
        "  </tr>\n",
        "</tbody>\n",
        "</table>\n",
        "\n",
        "<code>primosTupla = ('Melissa', 'Arthur', 'Maria Letícia', 'Larissa', 'Janaína', 12, 11.25, \"corajosa\", False)</code>\n",
        "\n",
        "<table>\n",
        "<tbody>\n",
        "  <tr>\n",
        "    <td>Nome</td>\n",
        "    <td>primosTupla</td>\n",
        "    <td rowspan=\"5\">Tuple</td>\n",
        "  </tr>\n",
        "  <tr>\n",
        "    <td>Valor</td>\n",
        "    <td>Vários</td>\n",
        "  </tr>\n",
        "  <tr>\n",
        "    <td>Endereço</td>\n",
        "    <td>Não sabemos, o Python cuida disso pra gente</td>\n",
        "  </tr>\n",
        "</tbody>\n",
        "</table>\n",
        "\n",
        "<code>primosDict = {'Melissa': 12, 'Arthur': 11}</code>\n",
        "<table>\n",
        "<tbody>\n",
        "  <tr>\n",
        "    <td>Nome</td>\n",
        "    <td>primosDict</td>\n",
        "    <td rowspan=\"5\">Dict</td>\n",
        "  </tr>\n",
        "  <tr>\n",
        "    <td>Valor</td>\n",
        "    <td>Vários</td>\n",
        "  </tr>\n",
        "  <tr>\n",
        "    <td>Endereço</td>\n",
        "    <td>Não sabemos, o Python cuida disso pra gente</td>\n",
        "  </tr>\n",
        "</tbody>\n",
        "</table>\n",
        "<img src=\"https://openclipart.org/download/29833/warning.svg\" width=\"20px\" alt=\"warning\">\n",
        "<ol>\n",
        "<li>Nomear variaveis é um arte! Dê nomes significativos para suas variáveis, nada de var1, var2.</li>\n",
        "<li>Variáveis não podem começar com números: 1var, 123var...</li>\n",
        "<li>Existe uma dentre várias convenções de nomenclatura de variável utilizaremos uma chamada camelCase. Exemplo: primosLista, numerosPrimos, ehPar (booleano). A primeira palavra em minusculas e a primeira letra das outras palavras em maiúsculo parecendo umCamelo.</li>\n",
        "</ol>"
      ],
      "metadata": {
        "id": "QpD6Fa_afHig"
      }
    },
    {
      "cell_type": "markdown",
      "source": [
        "## Operadores relacionais\n",
        "Operadores relacionais são utilizados para comparar valores, o resultado de uma expressão relacional é um valor booleano (VERDADEIRO ou FALSO).<br />\n",
        "Em todas as linguagens de programação existem símbolos para executarmos essas operações. As operações maior, menor, maior ou igual e menor ou igual na maioria das linguagens de programação são os mesmos símbolos (até hoje não encontrei uma linguagem que tenha símbolo diferente para estes operadores): > (maior), < (menor), >= (maior ou igual) e <= (menor ou igual).<br />\n",
        "Mas os vilões dos iniciantes são os símbolos para testar igualdade e diferença.<br />\n",
        "Em cada linguagem é de um jeito! Em Java, C, C#, javascript, etc. Por exemplo, os símbolos de igual e diferente são: == e !=. Já em Pascal, SQL, Visual Basic, ... os símbolos de igual e diferente são: = e <>. Então fique esperto quando for aprender alguma dessas linguagens! <br/>\n",
        "Mas os operadores que utilizaremos no Python estão na tabela abaixo. <br />\n",
        "<table>\n",
        "<tr>\n",
        " <th>Descrição</th>\n",
        " <th>Operador</th>\n",
        "</tr>\n",
        "<tr>\n",
        "<td>Maior que</td>\n",
        "<td>></td>\n",
        "</tr>\n",
        "<tr>\n",
        "<td>Menor que</td>\n",
        "<td><</td>\n",
        "</tr>\n",
        "<tr>\n",
        "<td>Igual a</td>\n",
        "<td>==</td>\n",
        "</tr>\n",
        "<tr>\n",
        "<td>Maior ou igual a</td>\n",
        "<td>>=</td>\n",
        "</tr>\n",
        "<tr>\n",
        "<td>Menor ou igual a</td>\n",
        "<td><=</td>\n",
        "</tr>\n",
        "<tr>\n",
        "<td>Diferente</td>\n",
        "<td>!=</td>\n",
        "</tr>\n",
        "</table>\n",
        "<img src=\"https://openclipart.org/download/29833/warning.svg\" width=\"20px\" alt=\"warning\"> Você já percebeu que quando atribuimos um valor a uma variável usamos = e quando fazemos a comparação usamos == ?\n"
      ],
      "metadata": {
        "id": "y-Vd3ZIQ2ogr"
      }
    },
    {
      "cell_type": "code",
      "source": [
        "a = 5\n",
        "b = 8\n",
        "c = b\n",
        "\n",
        "print(a > b)\n",
        "print(b < a)\n",
        "print(b == c)\n",
        "print(7 >= a)\n",
        "print(c <= b)\n",
        "print(c != b)"
      ],
      "metadata": {
        "id": "yWJuBaNA6Au5"
      },
      "execution_count": null,
      "outputs": []
    },
    {
      "cell_type": "markdown",
      "source": [
        "## Operadores lógicos\n",
        "Os operadores lógicos unem expressões lógicas formando assim, uma nova expressão que é composta por 2 ou mais sub-expressões. O resultado lógico de expressões compostas será a relação entre as sub-expressões. Como estudamos, toda expressão lógica avaliada resultará num valor lógico e a relação entre vários valores lógicos é um outro valor lógico.<br/ >\n",
        "Quando estudamos os Operadores Relacionais aprendemos a obter o valor lógico entre 2 operandos, no caso, entre o operando que está a esquerda do operador e o operando que está a direita do Operador Relacional. Como resposta, obtemos valores do tipo Booleano, isto é, verdadeiro **True** ou falso **False**.\n",
        "<table>\n",
        "<tr>\n",
        " <td>Descrição</td>\n",
        " <td>Operador</td>\n",
        "</tr>\n",
        "<tr>\n",
        "<td>e</td>\n",
        "<td>and</td>\n",
        "</tr>\n",
        "<tr>\n",
        "<td>ou</td>\n",
        "<td>or</td>\n",
        "</tr>\n",
        "<tr>\n",
        "<td>não</td>\n",
        "<td>not</td>\n",
        "</tr>\n",
        "</table>\n",
        "<img src=\"https://openclipart.org/download/29833/warning.svg\" width=\"20px\" alt=\"warning\">Não se preocupe em entender os operadores lógicos, pois iremos estudá-los quando você se tornar um Genin.\n"
      ],
      "metadata": {
        "id": "jCRqcMsP20i7"
      }
    },
    {
      "cell_type": "code",
      "source": [
        "print(True and 1)     #True and True = True\n",
        "print(0 and 1)        #False and True = False\n",
        "print(True or False)  #True\n",
        "print(False or True)  #True"
      ],
      "metadata": {
        "colab": {
          "base_uri": "https://localhost:8080/"
        },
        "id": "N9uC92uQ94Id",
        "outputId": "c997509e-238e-4a32-d970-9994edc2fb05"
      },
      "execution_count": 13,
      "outputs": [
        {
          "output_type": "stream",
          "name": "stdout",
          "text": [
            "1\n",
            "0\n",
            "True\n",
            "True\n"
          ]
        }
      ]
    },
    {
      "cell_type": "markdown",
      "source": [
        "##Revisão\n",
        "<ol>\n",
        "<li>Usamos uma função a função print(\"Hello, World!\") mesmo sem saber o que são funções.</li>\n",
        "<li>Aprendemos a usar as quatro operações fundamentais com números inteiros (integer), lembrando que para números com pontos flutuantes (float) o funcionamento é o mesmo.</li>\n",
        "<li>Definimos o que são CONSTANTES e também algumasVariaveis, bem como, nomea-las.</li>\n",
        "<li>Aprendemos a atribuir valores a uma variável ou CONSTANTE usando o operador =.\n",
        "<li>Aprendemos a relacionar e comparar valores e variáveis.</li>\n",
        "</ol>"
      ],
      "metadata": {
        "id": "wfRdIM5Gtd5E"
      }
    },
    {
      "cell_type": "markdown",
      "source": [
        "# Desafios"
      ],
      "metadata": {
        "id": "udrf051Y1JCN"
      }
    },
    {
      "cell_type": "markdown",
      "source": [
        "Digite algumas expressões e clique <img src=  http://www.clipartbest.com/cliparts/ncE/X8y/ncEX8yE7i.png width = \"16px\" alt=\"play\">.<br />\n",
        "Por exemplo: 5 + 2 * 3 qual a resposta dada? 21 ou 11?<br/>\n",
        "E se nós quisessemos que a expressão resulta-se 21? Parênteses são gratuitos podemos usar sem moderação."
      ],
      "metadata": {
        "id": "-IzbITNY1wfE"
      }
    },
    {
      "cell_type": "code",
      "source": [
        "1 + 1"
      ],
      "metadata": {
        "id": "v4Ol-sUtEqYP"
      },
      "execution_count": null,
      "outputs": []
    },
    {
      "cell_type": "markdown",
      "source": [
        "## Desafio: Academia #0\n",
        "Vamos jogar o jogo 4 = 10?\n",
        "Eu te dou 4 números e você pode usar as quatro operações e parentêses, mudar a ordem dos números para que o resultado final seja 10.<br />\n",
        "Exemplo: Dados os números 4 2 2 8 uma resposta possível seria: <h3>(2 * 8 + 4) / 2</h3>\n",
        "O desafio é faça os 4 números abaixo resultarem em 10\n",
        "<h1>4 9 2 7</h1>"
      ],
      "metadata": {
        "id": "wf887porFvsM"
      }
    },
    {
      "cell_type": "code",
      "source": [
        "7+9-4-2"
      ],
      "metadata": {
        "id": "NuK6nr8nGOVc",
        "colab": {
          "base_uri": "https://localhost:8080/"
        },
        "outputId": "e6991355-1705-4655-9c28-389e5a3245b1"
      },
      "execution_count": null,
      "outputs": [
        {
          "output_type": "execute_result",
          "data": {
            "text/plain": [
              "10"
            ]
          },
          "metadata": {},
          "execution_count": 2
        }
      ]
    },
    {
      "cell_type": "markdown",
      "source": [
        "## Desafio: Academia #1\n",
        "[Acesse o questionário](https://forms.gle/tMuHVfehJmeovFuJ6)\n"
      ],
      "metadata": {
        "id": "gtwETFbbEJur"
      }
    },
    {
      "cell_type": "markdown",
      "source": [
        "## Desafio: Academia #2\n",
        "Vamos testar tudo o que aprendemos até agora!<br />\n",
        "<ol>\n",
        "<li>Atribua a variável nome do tipo string o seu nome.\n",
        "<li>Atribua valores as variáveis dividendoPar e dividendoImpar</li>\n",
        "</ol>"
      ],
      "metadata": {
        "id": "VgednwTpfoDQ"
      }
    },
    {
      "cell_type": "code",
      "source": [
        "#Crie ou altere as variáves abaixo\n",
        "\n",
        "nome = \"\" #Escreva seu nome e atenção strings precisam estar entre aspas.\n",
        "dividendoPar =  #\"Escreva um número, sem aspas, lembre-se\"\n",
        "dividendoImpar =  #\"Escreva um número, sem aspas, lembre-se\"\n",
        "divisor = 2\n",
        "\n",
        "#####Não alterar desse ponto para baixo#####\n",
        "\n",
        "print(\"Olá \", nome)\n",
        "\n",
        "print(str(dividendoPar/divisor) + \" é um inteiro\")\n",
        "\n",
        "print(str(dividendoImpar/divisor) + \" é um float\")\n",
        "\n",
        "if dividendoImpar > dividendoPar:\n",
        "  print (str(dividendoImpar) + \" é maior que \" + str(dividendoPar))\n",
        "else:\n",
        "  print (str(dividendoPar) + \" é maior que \" + str(dividendoImpar))"
      ],
      "metadata": {
        "colab": {
          "base_uri": "https://localhost:8080/"
        },
        "id": "RpGtfVrh0C2J",
        "outputId": "927ff572-81c3-4d4f-8d80-6d503827b80f"
      },
      "execution_count": 18,
      "outputs": [
        {
          "output_type": "stream",
          "name": "stdout",
          "text": [
            "Olá  \n",
            "1.0 é um inteiro\n",
            "1.5 é um float\n",
            "3 é maior que 2\n"
          ]
        }
      ]
    },
    {
      "cell_type": "markdown",
      "source": [
        "João é um comerciante que vende laranjas. Ele precisa fazer uma entrega de\n",
        "algumas caixas. João vende cada laranja por 0,50 centavos, cada caixa tem 50 laranjas. Crie:\n",
        "<ol>\n",
        "<li>Uma variável para armazenar o preço de cada laranja.</li>\n",
        "<li>Uma CONSTANTE para armazenar a capacidade de cada caixa de laranjas.\n",
        "<li>O número de caixas será armazenado em uma variável com o nome: entrega.</li>\n",
        "</ol>\n",
        "Crie um programa que calcule o valor a ser recebido por João."
      ],
      "metadata": {
        "id": "yRhioxotAvfb"
      }
    },
    {
      "cell_type": "code",
      "source": [
        "import random\n",
        "entrega = random.randint(10,100)"
      ],
      "metadata": {
        "id": "sBIG2Ok_Au4I"
      },
      "execution_count": null,
      "outputs": []
    }
  ]
}