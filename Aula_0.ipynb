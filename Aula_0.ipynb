{
  "nbformat": 4,
  "nbformat_minor": 0,
  "metadata": {
    "colab": {
      "name": "Aula_0.ipynb",
      "provenance": [],
      "toc_visible": true,
      "authorship_tag": "ABX9TyO2tfblj86rp3JBJpZQzWHI",
      "include_colab_link": true
    },
    "kernelspec": {
      "name": "python3",
      "display_name": "Python 3"
    },
    "language_info": {
      "name": "python"
    }
  },
  "cells": [
    {
      "cell_type": "markdown",
      "metadata": {
        "id": "view-in-github",
        "colab_type": "text"
      },
      "source": [
        "<a href=\"https://colab.research.google.com/github/viperblack/learningpython/blob/main/Aula_0.ipynb\" target=\"_parent\"><img src=\"https://colab.research.google.com/assets/colab-badge.svg\" alt=\"Open In Colab\"/></a>"
      ]
    },
    {
      "cell_type": "markdown",
      "source": [
        "O Python é uma linguagem de programação fácil de interpretar e de alto nível orientada a objetos com sintaxe fácil de ler. Ideal para criar protótipos e tarefas ad-hoc, o Python tem amplo uso em computação científica, desenvolvimento web e automação. Como uma linguagem de programação de propósito geral e amigável, o Python suporta muitos dos principais cientistas de computador e desenvolvedores de aplicativos globalmente. Vamos ter nosso primeiro contato com a linguagem Python, clique no botão <img src=  http://www.clipartbest.com/cliparts/ncE/X8y/ncEX8yE7i.png width = \"16px\"> abaixo:\n",
        "\n",
        "\n",
        "\n"
      ],
      "metadata": {
        "id": "afxxti2GrtoA"
      }
    },
    {
      "cell_type": "code",
      "execution_count": null,
      "metadata": {
        "id": "zcsGr56FrBN4"
      },
      "outputs": [],
      "source": [
        "resposta = input(\"Topa aprender a programar? (0-Não; 1-Sim) \")\n",
        "if int(resposta) >= 1:\n",
        "  print (\"Então vamos começar! :)\")\n",
        "else:\n",
        "  print (\"Que pena. :(\")"
      ]
    },
    {
      "cell_type": "markdown",
      "source": [
        "# Alô Mundo\n",
        "O primeiro exercício universal em toda linguagem de programação é o famoso \"Hello, World!\". Modifique o programa abaixo para mostrar a mensagem \"Hello World!\" (sem aspas)."
      ],
      "metadata": {
        "id": "ubOx1wCpge3g"
      }
    },
    {
      "cell_type": "code",
      "source": [
        "print (\"Goodbye, Mars!\")"
      ],
      "metadata": {
        "id": "ZYx4huVNhVa9"
      },
      "execution_count": null,
      "outputs": []
    },
    {
      "cell_type": "markdown",
      "source": [
        "# Expressões aritméticas\n",
        "O Python pode ser utilizado como uma calculadora matemática avançada. Praticamente, todos os operadores aritméticos funcionam da mesma forma como os conhecemos da matemática elementar. Por exemplo, para trabalharmos com as 4 principais funções matemáticas, a soma, subtração, multiplicação e divisão, temos os operadores conforme tabela a seguir.\n",
        "<br /><br />\n",
        "<table>\n",
        "<tr>\n",
        "<td>Operação</td> <td>Operador</td>\n",
        "</tr>\n",
        "<tr><td>Adição</td><td>+</td>\n",
        "</tr>\n",
        "<tr>\n",
        "<td>Subtração</td><td>-</td>\n",
        "</tr>\n",
        "<tr><td>Multiplicação</td><td>*</td>\n",
        "<tr>\n",
        "<td>Divisão</td><td>/</td>\n",
        "</tr>\n",
        "<tr>\n",
        "<td>Módulo</td><td>%</td>\n",
        "</tr>\n",
        "</table>\n",
        "<br />\n",
        "O operador % (módulo) retorna o resto de uma divisão, por exemplo, 3 % 2 retornará 1 e 4 % 2 retornará 0.\n",
        "Teste alguns:\n"
      ],
      "metadata": {
        "id": "Rsh0MfOY2xaV"
      }
    },
    {
      "cell_type": "code",
      "source": [
        "5 + 5"
      ],
      "metadata": {
        "colab": {
          "base_uri": "https://localhost:8080/"
        },
        "id": "wnQpFnz_-_Es",
        "outputId": "349d8459-5f32-465f-fe2c-2a1556982cec"
      },
      "execution_count": 1,
      "outputs": [
        {
          "output_type": "execute_result",
          "data": {
            "text/plain": [
              "10"
            ]
          },
          "metadata": {},
          "execution_count": 1
        }
      ]
    }
  ]
}