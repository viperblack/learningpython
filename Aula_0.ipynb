{
  "nbformat": 4,
  "nbformat_minor": 0,
  "metadata": {
    "colab": {
      "name": "Aula_0.ipynb",
      "provenance": [],
      "collapsed_sections": [],
      "toc_visible": true,
      "include_colab_link": true
    },
    "kernelspec": {
      "name": "python3",
      "display_name": "Python 3"
    },
    "language_info": {
      "name": "python"
    }
  },
  "cells": [
    {
      "cell_type": "markdown",
      "metadata": {
        "id": "view-in-github",
        "colab_type": "text"
      },
      "source": [
        "<a href=\"https://colab.research.google.com/github/viperblack/learningpython/blob/main/Aula_0.ipynb\" target=\"_parent\"><img src=\"https://colab.research.google.com/assets/colab-badge.svg\" alt=\"Open In Colab\"/></a>"
      ]
    },
    {
      "cell_type": "markdown",
      "source": [
        "O Python é uma linguagem de programação fácil de interpretar e de alto nível orientada a objetos com sintaxe fácil de ler. Ideal para criar protótipos e tarefas ad-hoc, o Python tem amplo uso em computação científica, desenvolvimento web e automação. Como uma linguagem de programação de propósito geral e amigável, o Python suporta muitos dos principais cientistas de computador e desenvolvedores de aplicativos globalmente. Vamos ter nosso primeiro contato com a linguagem Python, clique no botão <img src=  http://www.clipartbest.com/cliparts/ncE/X8y/ncEX8yE7i.png width = \"16px\"> abaixo:\n",
        "\n",
        "\n",
        "\n"
      ],
      "metadata": {
        "id": "afxxti2GrtoA"
      }
    },
    {
      "cell_type": "code",
      "execution_count": null,
      "metadata": {
        "id": "zcsGr56FrBN4"
      },
      "outputs": [],
      "source": [
        "resposta = input(\"Topa aprender a programar? (0-Não; 1-Sim) \")\n",
        "if int(resposta) >= 1:\n",
        "  print (\"Então vamos começar! :)\")\n",
        "else:\n",
        "  print (\"Que pena. :(\")"
      ]
    },
    {
      "cell_type": "markdown",
      "source": [
        "# Alô Mundo\n",
        "O primeiro exercício universal em toda linguagem de programação é o famoso \"Hello, World!\". Modifique o programa abaixo para mostrar a mensagem \"Hello World!\" (sem aspas)."
      ],
      "metadata": {
        "id": "ubOx1wCpge3g"
      }
    },
    {
      "cell_type": "code",
      "source": [
        "print (\"Goodbye, Mars!\")"
      ],
      "metadata": {
        "id": "ZYx4huVNhVa9"
      },
      "execution_count": null,
      "outputs": []
    },
    {
      "cell_type": "markdown",
      "source": [
        "# Expressões aritméticas\n",
        "O Python pode ser utilizado como uma calculadora matemática avançada. Praticamente, todos os operadores aritméticos funcionam da mesma forma como os conhecemos da matemática elementar. Por exemplo, para trabalharmos com as 4 principais funções matemáticas, a soma, subtração, multiplicação e divisão, temos os operadores conforme tabela a seguir.\n",
        "<br /><br />\n",
        "<table>\n",
        "<tr>\n",
        "<td>Operação</td> <td>Operador</td>\n",
        "</tr>\n",
        "<tr><td>Adição</td><td>+</td>\n",
        "</tr>\n",
        "<tr>\n",
        "<td>Subtração</td><td>-</td>\n",
        "</tr>\n",
        "<tr><td>Multiplicação</td><td>*</td>\n",
        "<tr>\n",
        "<td>Divisão</td><td>/</td>\n",
        "</tr>\n",
        "</table>\n",
        "<br />\n",
        "Teste alguns:\n",
        "Só digite as expressões e clique (play) Por exemplo: 5 + 2 * 3 qual a resposta dada? 21 ou 11?\n",
        "E se nós quisessemos que a expressão resulta-se 21? Parênteses são gratuitos podemos usar sem moderação.\n"
      ],
      "metadata": {
        "id": "Rsh0MfOY2xaV"
      }
    },
    {
      "cell_type": "code",
      "source": [
        "1 + 1"
      ],
      "metadata": {
        "id": "v4Ol-sUtEqYP"
      },
      "execution_count": null,
      "outputs": []
    },
    {
      "cell_type": "markdown",
      "source": [
        "# Desafio Ninja: Nível Academia 1\n",
        "Vamos jogar o jogo 4 = 10?\n",
        "Eu te dou 4 números e você pode usar as quatro operações e parentêses, mudar a ordem dos números para que o resultado final seja 10.<br />\n",
        "Exemplo: Dados os números 4 2 2 8 uma resposta possível seria: <h3>(2 * 8 + 4) / 2</h3>\n",
        "O desafio é faça os 4 números abaixo resultarem em 10\n",
        "<h1>4 9 2 7</h1>"
      ],
      "metadata": {
        "id": "wf887porFvsM"
      }
    },
    {
      "cell_type": "code",
      "source": [
        "7+9"
      ],
      "metadata": {
        "id": "NuK6nr8nGOVc",
        "colab": {
          "base_uri": "https://localhost:8080/"
        },
        "outputId": "8ba0460f-c785-427b-f6e6-7112cef6d00c"
      },
      "execution_count": null,
      "outputs": [
        {
          "output_type": "execute_result",
          "data": {
            "text/plain": [
              "10"
            ]
          },
          "metadata": {},
          "execution_count": 1
        }
      ]
    },
    {
      "cell_type": "markdown",
      "source": [
        "# Variáveis\n",
        "As variáveis são os elementos da programação que permitem o armazenamento de valores na memória do computador e seu uso pelo programa.<br />\n",
        "No exercício inicial usamos uma variável chamada \"resposta\" que armazenou nossa escolha e depois foi comparada a um \"número\" para direcionar para uma resposta ou outra! As decisões ou expressões lógicas estudaremos logo a seguir."
      ],
      "metadata": {
        "id": "iSQtGqO3Jz-q"
      }
    }
  ]
}