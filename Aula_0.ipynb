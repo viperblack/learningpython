{
  "nbformat": 4,
  "nbformat_minor": 0,
  "metadata": {
    "colab": {
      "name": "Aula_0.ipynb",
      "provenance": [],
      "authorship_tag": "ABX9TyPPjL9nT2ry6RqspYhiYt+I",
      "include_colab_link": true
    },
    "kernelspec": {
      "name": "python3",
      "display_name": "Python 3"
    },
    "language_info": {
      "name": "python"
    }
  },
  "cells": [
    {
      "cell_type": "markdown",
      "metadata": {
        "id": "view-in-github",
        "colab_type": "text"
      },
      "source": [
        "<a href=\"https://colab.research.google.com/github/viperblack/learningpython/blob/main/Aula_0.ipynb\" target=\"_parent\"><img src=\"https://colab.research.google.com/assets/colab-badge.svg\" alt=\"Open In Colab\"/></a>"
      ]
    },
    {
      "cell_type": "markdown",
      "source": [
        "O Python é uma linguagem de programação fácil de interpretar e de alto nível orientada a objetos com sintaxe fácil de ler. Ideal para criar protótipos e tarefas ad-hoc, o Python tem amplo uso em computação científica, desenvolvimento web e automação. Como uma linguagem de programação de propósito geral e amigável, o Python suporta muitos dos principais cientistas de computador e desenvolvedores de aplicativos globalmente. Vamos ter nosso primeiro contato com a linguagem Python, clique no botão <img src=  http://www.clipartbest.com/cliparts/ncE/X8y/ncEX8yE7i.png width = \"16px\"> abaixo:\n",
        "\n",
        "\n",
        "\n"
      ],
      "metadata": {
        "id": "afxxti2GrtoA"
      }
    },
    {
      "cell_type": "code",
      "execution_count": null,
      "metadata": {
        "id": "zcsGr56FrBN4"
      },
      "outputs": [],
      "source": [
        "resposta = input(\"Topa aprender a programar? (0-Não; 1-Sim) \")\n",
        "if int(resposta) >= 1:\n",
        "  print (\"Então vamos começar! :)\")\n",
        "else:\n",
        "  print (\"Que pena. :(\")"
      ]
    }
  ]
}